{
 "cells": [
  {
   "cell_type": "markdown",
   "metadata": {},
   "source": [
    "## Import Libraries"
   ]
  },
  {
   "cell_type": "code",
   "execution_count": 1,
   "metadata": {},
   "outputs": [],
   "source": [
    "import torch\n",
    "import torchvision"
   ]
  },
  {
   "cell_type": "markdown",
   "metadata": {},
   "source": [
    "## Prepare the Dataset"
   ]
  },
  {
   "cell_type": "code",
   "execution_count": 2,
   "metadata": {},
   "outputs": [
    {
     "data": {
      "text/plain": [
       "<torch._C.Generator at 0x23c26a712b8>"
      ]
     },
     "execution_count": 2,
     "metadata": {},
     "output_type": "execute_result"
    }
   ],
   "source": [
    "# Init dataset and optimizer parameters\n",
    "n_epochs = 3\n",
    "batch_size_train = 64\n",
    "batch_size_test = 1000\n",
    "learning_rate = 0.01\n",
    "momentum = 0.5\n",
    "log_interval = 10\n",
    "\n",
    "random_seed = 1\n",
    "torch.backends.cudnn.enabled = False\n",
    "torch.manual_seed(random_seed)"
   ]
  },
  {
   "cell_type": "code",
   "execution_count": 3,
   "metadata": {},
   "outputs": [],
   "source": [
    "# Get the train data set and the test data set\n",
    "train_loader = torch.utils.data.DataLoader(\n",
    "    torchvision.datasets.MNIST('/files/', train=True, download=True,\n",
    "                            transform=torchvision.transforms.Compose([\n",
    "                            torchvision.transforms.ToTensor(),\n",
    "                            torchvision.transforms.Normalize((0.1307,), (0.3081,))\n",
    "                            ])),\n",
    "                    batch_size=batch_size_train, shuffle=True)\n",
    "\n",
    "test_loader = torch.utils.data.DataLoader(\n",
    "    torchvision.datasets.MNIST('/files/', train=False, download=True,\n",
    "                            transform=torchvision.transforms.Compose([\n",
    "                            torchvision.transforms.ToTensor(),\n",
    "                            torchvision.transforms.Normalize((0.1307,), (0.3081,))\n",
    "                            ])),\n",
    "                    batch_size=batch_size_test, shuffle=True)"
   ]
  },
  {
   "cell_type": "code",
   "execution_count": 4,
   "metadata": {},
   "outputs": [],
   "source": [
    "# Test on some examples\n",
    "examples = enumerate(test_loader)\n",
    "batch_idx, (example_data, example_targets) = next(examples)"
   ]
  },
  {
   "cell_type": "code",
   "execution_count": 5,
   "metadata": {},
   "outputs": [
    {
     "data": {
      "text/plain": [
       "torch.Size([1000, 1, 28, 28])"
      ]
     },
     "execution_count": 5,
     "metadata": {},
     "output_type": "execute_result"
    }
   ],
   "source": [
    "# size : 28 * 28 grayscale pictures\n",
    "example_data.shape"
   ]
  },
  {
   "cell_type": "code",
   "execution_count": 6,
   "metadata": {},
   "outputs": [
    {
     "data": {
      "image/png": "[encoded data removed]",
      "text/plain": [
       "<Figure size 432x288 with 6 Axes>"
      ]
     },
     "execution_count": 6,
     "metadata": {},
     "output_type": "execute_result"
    },
    {
     "data": {
      "image/png": "[encoded data removed]",
      "text/plain": [
       "<Figure size 432x288 with 6 Axes>"
      ]
     },
     "metadata": {},
     "output_type": "display_data"
    }
   ],
   "source": [
    "import matplotlib.pyplot as plt\n",
    "\n",
    "fig = plt.figure()\n",
    "for i in range(6):\n",
    "    plt.subplot(2,3,i+1)\n",
    "    plt.tight_layout()\n",
    "    plt.imshow(example_data[i][0], cmap='gray', interpolation='none')\n",
    "    plt.title(\"Ground Truth: {}\".format(example_targets[i]))\n",
    "    plt.xticks([])\n",
    "    plt.yticks([])\n",
    "fig"
   ]
  },
  {
   "cell_type": "markdown",
   "metadata": {},
   "source": [
    "## Building the Network"
   ]
  },
  {
   "cell_type": "code",
   "execution_count": 7,
   "metadata": {},
   "outputs": [],
   "source": [
    "import torch.nn as nn\n",
    "import torch.nn.functional as F\n",
    "import torch.optim as optim"
   ]
  },
  {
   "cell_type": "code",
   "execution_count": 8,
   "metadata": {},
   "outputs": [],
   "source": [
    "# Define network class\n",
    "class Net(nn.Module):\n",
    "    def __init__(self):\n",
    "        super(Net, self).__init__()\n",
    "        self.conv1 = nn.Conv2d(1, 10, kernel_size=5)\n",
    "        self.conv2 = nn.Conv2d(10, 20, kernel_size=5)\n",
    "        self.conv2_drop = nn.Dropout2d()\n",
    "        self.fc1 = nn.Linear(320, 50)\n",
    "        self.fc2 = nn.Linear(50, 10)\n",
    "\n",
    "    def forward(self, x):\n",
    "        x = F.relu(F.max_pool2d(self.conv1(x), 2))\n",
    "        x = F.relu(F.max_pool2d(self.conv2_drop(self.conv2(x)), 2))\n",
    "        x = x.view(-1, 320)\n",
    "        x = F.relu(self.fc1(x))\n",
    "        x = F.dropout(x, training=self.training)\n",
    "        x = self.fc2(x)\n",
    "        return F.log_softmax(x)"
   ]
  },
  {
   "cell_type": "code",
   "execution_count": 9,
   "metadata": {},
   "outputs": [],
   "source": [
    "# Init network and optimizer\n",
    "network = Net()\n",
    "optimizer = optim.SGD(network.parameters(), lr=learning_rate, momentum=momentum)"
   ]
  },
  {
   "cell_type": "markdown",
   "metadata": {},
   "source": [
    "## Training the Model"
   ]
  },
  {
   "cell_type": "code",
   "execution_count": 10,
   "metadata": {},
   "outputs": [],
   "source": [
    "# Keep track of loss evolution for the train and the test dataset\n",
    "train_losses = []\n",
    "train_counter = []\n",
    "test_losses = []\n",
    "test_counter = [i*len(train_loader.dataset) for i in range(n_epochs + 1)]"
   ]
  },
  {
   "cell_type": "code",
   "execution_count": 11,
   "metadata": {},
   "outputs": [],
   "source": [
    "# Def train loop\n",
    "def train(epoch):\n",
    "    network.train()\n",
    "    for batch_idx, (data, target) in enumerate(train_loader):\n",
    "        optimizer.zero_grad()\n",
    "        output = network(data)\n",
    "        loss = F.nll_loss(output, target)\n",
    "        loss.backward()\n",
    "        optimizer.step()\n",
    "        if batch_idx % log_interval == 0:\n",
    "            print('Train Epoch: {} [{}/{} ({:.0f}%)]\\tLoss: {:.6f}'.format(\n",
    "                epoch, batch_idx * len(data), len(train_loader.dataset),\n",
    "                100. * batch_idx / len(train_loader), loss.item()))\n",
    "            train_losses.append(loss.item())\n",
    "            train_counter.append((batch_idx*64) + ((epoch-1)*len(train_loader.dataset)))\n",
    "            #torch.save(network.state_dict(), '/results/model.pth')\n",
    "            #torch.save(optimizer.state_dict(), '/results/optimizer.pth')"
   ]
  },
  {
   "cell_type": "code",
   "execution_count": 12,
   "metadata": {},
   "outputs": [],
   "source": [
    "# Def test loop\n",
    "def test():\n",
    "    network.eval()\n",
    "    test_loss = 0\n",
    "    correct = 0\n",
    "    with torch.no_grad():\n",
    "        for data, target in test_loader:\n",
    "            output = network(data)\n",
    "            test_loss += F.nll_loss(output, target, size_average=False).item()\n",
    "            pred = output.data.max(1, keepdim=True)[1]\n",
    "            correct += pred.eq(target.data.view_as(pred)).sum()\n",
    "    test_loss /= len(test_loader.dataset)\n",
    "    test_losses.append(test_loss)\n",
    "    print('\\nTest set: Avg. loss: {:.4f}, Accuracy: {}/{} ({:.0f}%)\\n'.format(\n",
    "        test_loss, correct, len(test_loader.dataset),\n",
    "        100. * correct / len(test_loader.dataset)))"
   ]
  },
  {
   "cell_type": "code",
   "execution_count": 56,
   "metadata": {},
   "outputs": [
    {
     "name": "stderr",
     "output_type": "stream",
     "text": [
      "C:\\Users\\Chapa\\Anaconda3\\lib\\site-packages\\ipykernel_launcher.py:18: UserWarning: Implicit dimension choice for log_softmax has been deprecated. Change the call to include dim=X as an argument.\n"
     ]
    },
    {
     "name": "stdout",
     "output_type": "stream",
     "text": [
      "\n",
      "Test set: Avg. loss: 2.3089, Accuracy: 674/10000 (7%)\n",
      "\n",
      "Train Epoch: 1 [0/60000 (0%)]\tLoss: 2.343640\n",
      "Train Epoch: 1 [640/60000 (1%)]\tLoss: 2.289673\n",
      "Train Epoch: 1 [1280/60000 (2%)]\tLoss: 2.284914\n",
      "Train Epoch: 1 [1920/60000 (3%)]\tLoss: 2.268911\n",
      "Train Epoch: 1 [2560/60000 (4%)]\tLoss: 2.271990\n",
      "Train Epoch: 1 [3200/60000 (5%)]\tLoss: 2.257826\n",
      "Train Epoch: 1 [3840/60000 (6%)]\tLoss: 2.212299\n",
      "Train Epoch: 1 [4480/60000 (7%)]\tLoss: 2.217726\n",
      "Train Epoch: 1 [5120/60000 (9%)]\tLoss: 2.109464\n",
      "Train Epoch: 1 [5760/60000 (10%)]\tLoss: 2.140491\n",
      "Train Epoch: 1 [6400/60000 (11%)]\tLoss: 2.014366\n",
      "Train Epoch: 1 [7040/60000 (12%)]\tLoss: 1.804239\n",
      "Train Epoch: 1 [7680/60000 (13%)]\tLoss: 1.782579\n",
      "Train Epoch: 1 [8320/60000 (14%)]\tLoss: 1.610283\n",
      "Train Epoch: 1 [8960/60000 (15%)]\tLoss: 1.568699\n",
      "Train Epoch: 1 [9600/60000 (16%)]\tLoss: 1.445546\n",
      "Train Epoch: 1 [10240/60000 (17%)]\tLoss: 1.325663\n",
      "Train Epoch: 1 [10880/60000 (18%)]\tLoss: 1.141701\n",
      "Train Epoch: 1 [11520/60000 (19%)]\tLoss: 1.274238\n",
      "Train Epoch: 1 [12160/60000 (20%)]\tLoss: 1.272118\n",
      "Train Epoch: 1 [12800/60000 (21%)]\tLoss: 1.163744\n",
      "Train Epoch: 1 [13440/60000 (22%)]\tLoss: 1.000238\n",
      "Train Epoch: 1 [14080/60000 (23%)]\tLoss: 1.048129\n",
      "Train Epoch: 1 [14720/60000 (25%)]\tLoss: 0.960273\n",
      "Train Epoch: 1 [15360/60000 (26%)]\tLoss: 0.879692\n",
      "Train Epoch: 1 [16000/60000 (27%)]\tLoss: 0.969662\n",
      "Train Epoch: 1 [16640/60000 (28%)]\tLoss: 1.076370\n",
      "Train Epoch: 1 [17280/60000 (29%)]\tLoss: 0.834241\n",
      "Train Epoch: 1 [17920/60000 (30%)]\tLoss: 0.849284\n",
      "Train Epoch: 1 [18560/60000 (31%)]\tLoss: 0.708907\n",
      "Train Epoch: 1 [19200/60000 (32%)]\tLoss: 0.865192\n",
      "Train Epoch: 1 [19840/60000 (33%)]\tLoss: 0.752191\n",
      "Train Epoch: 1 [20480/60000 (34%)]\tLoss: 1.043082\n",
      "Train Epoch: 1 [21120/60000 (35%)]\tLoss: 0.974302\n",
      "Train Epoch: 1 [21760/60000 (36%)]\tLoss: 0.854310\n",
      "Train Epoch: 1 [22400/60000 (37%)]\tLoss: 0.671416\n",
      "Train Epoch: 1 [23040/60000 (38%)]\tLoss: 0.706384\n",
      "Train Epoch: 1 [23680/60000 (39%)]\tLoss: 0.573142\n",
      "Train Epoch: 1 [24320/60000 (41%)]\tLoss: 0.774787\n",
      "Train Epoch: 1 [24960/60000 (42%)]\tLoss: 0.755687\n",
      "Train Epoch: 1 [25600/60000 (43%)]\tLoss: 0.779287\n",
      "Train Epoch: 1 [26240/60000 (44%)]\tLoss: 0.634644\n",
      "Train Epoch: 1 [26880/60000 (45%)]\tLoss: 0.626140\n",
      "Train Epoch: 1 [27520/60000 (46%)]\tLoss: 0.669991\n",
      "Train Epoch: 1 [28160/60000 (47%)]\tLoss: 0.668509\n",
      "Train Epoch: 1 [28800/60000 (48%)]\tLoss: 0.700328\n",
      "Train Epoch: 1 [29440/60000 (49%)]\tLoss: 0.460286\n",
      "Train Epoch: 1 [30080/60000 (50%)]\tLoss: 0.636618\n",
      "Train Epoch: 1 [30720/60000 (51%)]\tLoss: 0.672687\n",
      "Train Epoch: 1 [31360/60000 (52%)]\tLoss: 0.704035\n",
      "Train Epoch: 1 [32000/60000 (53%)]\tLoss: 0.477259\n",
      "Train Epoch: 1 [32640/60000 (54%)]\tLoss: 0.604193\n",
      "Train Epoch: 1 [33280/60000 (55%)]\tLoss: 0.655433\n",
      "Train Epoch: 1 [33920/60000 (57%)]\tLoss: 0.513343\n",
      "Train Epoch: 1 [34560/60000 (58%)]\tLoss: 0.604642\n",
      "Train Epoch: 1 [35200/60000 (59%)]\tLoss: 0.669357\n",
      "Train Epoch: 1 [35840/60000 (60%)]\tLoss: 0.602672\n",
      "Train Epoch: 1 [36480/60000 (61%)]\tLoss: 0.545579\n",
      "Train Epoch: 1 [37120/60000 (62%)]\tLoss: 0.610236\n",
      "Train Epoch: 1 [37760/60000 (63%)]\tLoss: 0.853367\n",
      "Train Epoch: 1 [38400/60000 (64%)]\tLoss: 0.572067\n",
      "Train Epoch: 1 [39040/60000 (65%)]\tLoss: 0.759263\n",
      "Train Epoch: 1 [39680/60000 (66%)]\tLoss: 0.532569\n",
      "Train Epoch: 1 [40320/60000 (67%)]\tLoss: 0.439245\n",
      "Train Epoch: 1 [40960/60000 (68%)]\tLoss: 0.400150\n",
      "Train Epoch: 1 [41600/60000 (69%)]\tLoss: 0.567894\n",
      "Train Epoch: 1 [42240/60000 (70%)]\tLoss: 0.392100\n",
      "Train Epoch: 1 [42880/60000 (71%)]\tLoss: 0.680869\n",
      "Train Epoch: 1 [43520/60000 (72%)]\tLoss: 0.460421\n",
      "Train Epoch: 1 [44160/60000 (74%)]\tLoss: 0.446783\n",
      "Train Epoch: 1 [44800/60000 (75%)]\tLoss: 0.517300\n",
      "Train Epoch: 1 [45440/60000 (76%)]\tLoss: 0.290943\n",
      "Train Epoch: 1 [46080/60000 (77%)]\tLoss: 0.600844\n",
      "Train Epoch: 1 [46720/60000 (78%)]\tLoss: 0.405518\n",
      "Train Epoch: 1 [47360/60000 (79%)]\tLoss: 0.522993\n",
      "Train Epoch: 1 [48000/60000 (80%)]\tLoss: 0.744116\n",
      "Train Epoch: 1 [48640/60000 (81%)]\tLoss: 0.802027\n",
      "Train Epoch: 1 [49280/60000 (82%)]\tLoss: 0.620904\n",
      "Train Epoch: 1 [49920/60000 (83%)]\tLoss: 0.613828\n",
      "Train Epoch: 1 [50560/60000 (84%)]\tLoss: 0.730211\n",
      "Train Epoch: 1 [51200/60000 (85%)]\tLoss: 0.619226\n",
      "Train Epoch: 1 [51840/60000 (86%)]\tLoss: 0.655285\n",
      "Train Epoch: 1 [52480/60000 (87%)]\tLoss: 0.535131\n",
      "Train Epoch: 1 [53120/60000 (88%)]\tLoss: 0.445291\n",
      "Train Epoch: 1 [53760/60000 (90%)]\tLoss: 0.480643\n",
      "Train Epoch: 1 [54400/60000 (91%)]\tLoss: 0.415051\n",
      "Train Epoch: 1 [55040/60000 (92%)]\tLoss: 0.490239\n",
      "Train Epoch: 1 [55680/60000 (93%)]\tLoss: 0.652118\n",
      "Train Epoch: 1 [56320/60000 (94%)]\tLoss: 0.358404\n",
      "Train Epoch: 1 [56960/60000 (95%)]\tLoss: 0.341012\n",
      "Train Epoch: 1 [57600/60000 (96%)]\tLoss: 0.381171\n",
      "Train Epoch: 1 [58240/60000 (97%)]\tLoss: 0.563440\n",
      "Train Epoch: 1 [58880/60000 (98%)]\tLoss: 0.272746\n",
      "Train Epoch: 1 [59520/60000 (99%)]\tLoss: 0.426028\n",
      "\n",
      "Test set: Avg. loss: 0.1974, Accuracy: 9427/10000 (94%)\n",
      "\n"
     ]
    }
   ],
   "source": [
    "# Training of the network\n",
    "test()\n",
    "for epoch in range(1, n_epochs + 1):\n",
    "    train(epoch)\n",
    "    test()"
   ]
  },
  {
   "cell_type": "code",
   "execution_count": null,
   "metadata": {},
   "outputs": [],
   "source": []
  }
 ],
 "metadata": {
  "kernelspec": {
   "display_name": "Python 3",
   "language": "python",
   "name": "python3"
  },
  "language_info": {
   "codemirror_mode": {
    "name": "ipython",
    "version": 3
   },
   "file_extension": ".py",
   "mimetype": "text/x-python",
   "name": "python",
   "nbconvert_exporter": "python",
   "pygments_lexer": "ipython3",
   "version": "3.7.3"
  }
 },
 "nbformat": 4,
 "nbformat_minor": 4
}
