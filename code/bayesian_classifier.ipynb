{
 "cells": [
  {
   "cell_type": "markdown",
   "metadata": {},
   "source": [
    "# Build Bayesian Classifier"
   ]
  },
  {
   "cell_type": "markdown",
   "metadata": {},
   "source": [
    "## Import libraries"
   ]
  },
  {
   "cell_type": "code",
   "execution_count": 1,
   "metadata": {},
   "outputs": [],
   "source": [
    "import torch\n",
    "import torch.nn as nn\n",
    "import torch.nn.functional as F\n",
    "import torch.optim as optim\n",
    "\n",
    "import torchvision\n",
    "import torchvision.datasets as datasets\n",
    "from torchvision.utils import make_grid\n",
    "import torchvision.transforms as transforms\n",
    "\n",
    "import time\n",
    "import imutils\n",
    "import matplotlib.pyplot as plt\n",
    "import cv2\n",
    "import numpy as np\n",
    "from sklearn.naive_bayes import GaussianNB\n",
    "import skimage.transform as transform\n",
    "\n",
    "device = torch.device(\"cuda\" if torch.cuda.is_available() else \"cpu\")"
   ]
  },
  {
   "cell_type": "markdown",
   "metadata": {},
   "source": [
    "## Generate codemap example"
   ]
  },
  {
   "cell_type": "code",
   "execution_count": 2,
   "metadata": {},
   "outputs": [
    {
     "data": {
      "text/plain": [
       "<matplotlib.image.AxesImage at 0x21ea29f7f98>"
      ]
     },
     "execution_count": 2,
     "metadata": {},
     "output_type": "execute_result"
    },
    {
     "data": {
      "image/png": "[encoded data removed]",
      "text/plain": [
       "<Figure size 432x288 with 1 Axes>"
      ]
     },
     "metadata": {
      "needs_background": "light"
     },
     "output_type": "display_data"
    }
   ],
   "source": [
    "# Codemap size : 32 * 4\n",
    "size_cm = [32,8]\n",
    "limit_cm = [0,128]\n",
    "test_codemap = torch.randint(limit_cm[0], limit_cm[1], (size_cm[0], size_cm[1]))\n",
    "test_cm_np = test_codemap.numpy().astype(np.uint8)\n",
    "\n",
    "plt.imshow(test_codemap)"
   ]
  },
  {
   "cell_type": "markdown",
   "metadata": {},
   "source": [
    "## Resample one element of a codemap"
   ]
  },
  {
   "cell_type": "code",
   "execution_count": 3,
   "metadata": {},
   "outputs": [
    {
     "name": "stdout",
     "output_type": "stream",
     "text": [
      "Pixel's coordonates : [0 0]\n",
      "Value of the pixel : 0\n"
     ]
    }
   ],
   "source": [
    "# Init variables\n",
    "coord_pixel = []\n",
    "\n",
    "# Mouse function to select the pixel to resample\n",
    "def select_pixel(event,x,y,flags,param):\n",
    "    global coord_pixel\n",
    "    if event == cv2.EVENT_LBUTTONDOWN:\n",
    "        coord_pixel = [x, y]\n",
    "\n",
    "# Resample element of codemap\n",
    "cv2.namedWindow('image')\n",
    "cv2.setMouseCallback('image', select_pixel)\n",
    "width = 160\n",
    "ratio = width / np.shape(test_cm_np)[1]\n",
    "test_cm_resized =  imutils.resize(test_cm_np, width = width)\n",
    "while(True):\n",
    "    cv2.imshow('image', test_cm_resized)\n",
    "    # Select pixel to resample\n",
    "    if cv2.waitKey(0) == 13: # press Enter to exit after selection\n",
    "        break\n",
    "cv2.destroyAllWindows()\n",
    "\n",
    "# Display\n",
    "coord_pixel = (np.floor(np.divide(coord_pixel, ratio))).astype(int)\n",
    "pixel_x = coord_pixel[0]\n",
    "pixel_y = coord_pixel[1]\n",
    "print(\"Pixel's coordonates : \" + str(coord_pixel))\n",
    "print(\"Value of the pixel : \" + str(test_cm_np[pixel_y][pixel_x]))"
   ]
  },
  {
   "cell_type": "code",
   "execution_count": 4,
   "metadata": {},
   "outputs": [
    {
     "name": "stdout",
     "output_type": "stream",
     "text": [
      "Pixel's coordonates : [0 0]\n",
      "Value predicted : 101\n"
     ]
    }
   ],
   "source": [
    "# Get the surroundings of the pixel\n",
    "nb_ngbrs = 2 # number of neighbours to add to the bayesian distribution\n",
    "ind_max_fr = min(pixel_y + nb_ngbrs + 1, size_cm[0])\n",
    "ind_min_fr = max(pixel_y - nb_ngbrs, 0)\n",
    "ind_max_tm = min(pixel_x + nb_ngbrs + 1, size_cm[1])\n",
    "ind_min_tm = max(pixel_x - nb_ngbrs, 0)\n",
    "coord_ngbrs = []\n",
    "values_ngbrs = []\n",
    "\n",
    "for i in range(ind_min_tm, ind_max_tm):\n",
    "    for j in range(ind_min_fr, ind_max_fr):\n",
    "        if abs(i-pixel_x) + abs(j-pixel_y) <= nb_ngbrs and (i!=pixel_x or j!=pixel_y):\n",
    "            coord_ngbrs.append([i, j])\n",
    "            values_ngbrs.append(test_cm_np[j][i])\n",
    "\n",
    "# Init classifier\n",
    "clf = GaussianNB()\n",
    "# Fit distribution to the neighbors of pixel\n",
    "clf.fit(coord_ngbrs, values_ngbrs)\n",
    "# Predict value\n",
    "proba_predicted = clf.predict_proba(np.array(coord_pixel).reshape(1, -1))\n",
    "classes = np.unique(values_ngbrs)\n",
    "value_predicted = int(round(np.sum(proba_predicted * classes)))\n",
    "\n",
    "print(\"Pixel's coordonates : \" + str(coord_pixel))\n",
    "print(\"Value predicted : \" + str(value_predicted))"
   ]
  },
  {
   "cell_type": "code",
   "execution_count": 5,
   "metadata": {},
   "outputs": [
    {
     "data": {
      "text/plain": [
       "<matplotlib.image.AxesImage at 0x21ea2d8acf8>"
      ]
     },
     "execution_count": 5,
     "metadata": {},
     "output_type": "execute_result"
    },
    {
     "data": {
      "image/png": "[encoded data removed]",
      "text/plain": [
       "<Figure size 432x288 with 1 Axes>"
      ]
     },
     "metadata": {
      "needs_background": "light"
     },
     "output_type": "display_data"
    }
   ],
   "source": [
    "# Resample codemap according to value predicted\n",
    "codemap_resampled = test_codemap\n",
    "codemap_resampled[pixel_y][pixel_x] = value_predicted\n",
    "\n",
    "plt.imshow(codemap_resampled)"
   ]
  },
  {
   "cell_type": "markdown",
   "metadata": {},
   "source": [
    "# Apply Sampling to MNIST codemaps"
   ]
  },
  {
   "cell_type": "markdown",
   "metadata": {},
   "source": [
    "## Import MNIST Dataset"
   ]
  },
  {
   "cell_type": "code",
   "execution_count": 6,
   "metadata": {},
   "outputs": [],
   "source": [
    "# Init MNIST parameters\n",
    "batch_size_test = 10"
   ]
  },
  {
   "cell_type": "code",
   "execution_count": 7,
   "metadata": {},
   "outputs": [],
   "source": [
    "# Import test samples\n",
    "test_loader = torch.utils.data.DataLoader(\n",
    "    torchvision.datasets.MNIST('/files/', train=False, download=True,\n",
    "                            transform=torchvision.transforms.Compose([\n",
    "                            torchvision.transforms.ToTensor(),\n",
    "                            torchvision.transforms.Normalize((0.1307,), (0.3081,))\n",
    "                            ])),\n",
    "                    batch_size=batch_size_test, shuffle=True)"
   ]
  },
  {
   "cell_type": "code",
   "execution_count": 8,
   "metadata": {},
   "outputs": [
    {
     "data": {
      "text/plain": [
       "torch.Size([10, 1, 28, 28])"
      ]
     },
     "execution_count": 8,
     "metadata": {},
     "output_type": "execute_result"
    }
   ],
   "source": [
    "# Test on some examples\n",
    "examples = enumerate(test_loader)\n",
    "batch_idx, (example_data, example_targets) = next(examples)\n",
    "np.shape(example_data)"
   ]
  },
  {
   "cell_type": "code",
   "execution_count": 9,
   "metadata": {},
   "outputs": [
    {
     "data": {
      "image/png": "[encoded data removed]",
      "text/plain": [
       "<Figure size 432x288 with 3 Axes>"
      ]
     },
     "metadata": {
      "needs_background": "light"
     },
     "output_type": "display_data"
    }
   ],
   "source": [
    "# Display\n",
    "for i in range(0,3):\n",
    "    plt.subplot(1,3,i+1)\n",
    "    plt.imshow(example_data[i][0], cmap='gray', interpolation='none')"
   ]
  },
  {
   "cell_type": "markdown",
   "metadata": {},
   "source": [
    "## Import MNIST Network"
   ]
  },
  {
   "cell_type": "code",
   "execution_count": 10,
   "metadata": {},
   "outputs": [],
   "source": [
    "class Encoder(nn.Module):\n",
    "\n",
    "    def __init__(self, in_channels, out_channels):\n",
    "        super(Encoder, self).__init__()\n",
    "        \n",
    "        self.conv1 = nn.Conv2d(in_channels, in_channels*2, 5)\n",
    "        self.conv2 = nn.Conv2d(in_channels*2, out_channels, 5)\n",
    "        \n",
    "        self.activation = nn.ReLU()\n",
    "        \n",
    "    def forward(self, x):\n",
    "\n",
    "        x = self.conv1(x)\n",
    "        x = self.activation(x)\n",
    "\n",
    "        x = self.conv2(x)\n",
    "        x = self.activation(x)\n",
    "\n",
    "        return x"
   ]
  },
  {
   "cell_type": "code",
   "execution_count": 11,
   "metadata": {},
   "outputs": [],
   "source": [
    "class VectorQuantizer(nn.Module):\n",
    "    def __init__(self, num_codewords, codewords_dim, commitment_cost):\n",
    "        super(VectorQuantizer, self).__init__()\n",
    "        \n",
    "        self.num_codewords = num_codewords\n",
    "        self.codewords_dim = codewords_dim\n",
    "        self.codewords = nn.Parameter(torch.rand(self.num_codewords, self.codewords_dim),requires_grad=True)\n",
    "\n",
    "        self.commitment_cost = commitment_cost\n",
    "        \n",
    "    def forward(self, inputs):\n",
    "        # Reshape: B, C, H, W -> B*H*W, C\n",
    "        inputs = inputs.permute(0, 2, 3, 1).contiguous()\n",
    "        flat_inputs = inputs.view(-1, self.codewords_dim)\n",
    "\n",
    "        # Calculating distances:\n",
    "        distances = torch.pow(flat_inputs.unsqueeze(1) - self.codewords.unsqueeze(0),2).sum(2)\n",
    "\n",
    "        # Argmin:\n",
    "        encoding_indices = torch.argmin(distances, dim=1)\n",
    "\n",
    "        # Index from dictionary:\n",
    "        # quantized[i,j] = self.codewords[encoding_indices[i,j], j]\n",
    "        quantized = torch.gather(self.codewords,0,encoding_indices.unsqueeze(1).expand(-1, self.codewords_dim)).view(inputs.shape)\n",
    "        encoding_indices = encoding_indices.view(inputs.shape[:-1])\n",
    "\n",
    "        # quantization loss\n",
    "        quantizing_loss = F.mse_loss(quantized.detach(), inputs)\n",
    "        commitment_loss = F.mse_loss(quantized, inputs.detach())\n",
    "        loss = quantizing_loss + self.commitment_cost * commitment_loss\n",
    "\n",
    "        # magic trick to copy gradients from inputs\n",
    "        quantized = inputs + (quantized - inputs).detach()\n",
    "        \n",
    "        #Reshape:\n",
    "        return quantized.permute(0, 3, 1, 2), encoding_indices, loss"
   ]
  },
  {
   "cell_type": "code",
   "execution_count": 12,
   "metadata": {},
   "outputs": [],
   "source": [
    "class Decoder(nn.Module):\n",
    "    def __init__(self, in_channels, out_channels):\n",
    "        super(Decoder, self).__init__()\n",
    "\n",
    "        self.conv1 = nn.ConvTranspose2d(in_channels, in_channels//2, kernel_size=5)\n",
    "        self.conv2 = nn.ConvTranspose2d(in_channels//2, out_channels, kernel_size=5)\n",
    "\n",
    "        self.activation = nn.ReLU()\n",
    "\n",
    "    def forward(self, inputs):\n",
    "        x = self.conv1(inputs)\n",
    "        x = self.activation(x)\n",
    "        x = self.conv2(x)\n",
    "        return x"
   ]
  },
  {
   "cell_type": "code",
   "execution_count": 13,
   "metadata": {},
   "outputs": [],
   "source": [
    "class VQVAE(nn.Module):\n",
    "    def __init__(self,x_dim,z_dim,num_codewords,commitment_cost):\n",
    "        super().__init__()\n",
    "        self.encoder = Encoder(x_dim,z_dim)\n",
    "        self.quantizer = VectorQuantizer(num_codewords, z_dim, commitment_cost)\n",
    "        self.decoder = Decoder(z_dim, x_dim)\n",
    "\n",
    "    def forward(self, x):\n",
    "        z_e = self.encoder(x)\n",
    "        z_q, codes, q_loss = self.quantizer(z_e)\n",
    "        x_hat = self.decoder(z_q)\n",
    "        \n",
    "        return x_hat, codes, q_loss"
   ]
  },
  {
   "cell_type": "code",
   "execution_count": 16,
   "metadata": {},
   "outputs": [
    {
     "data": {
      "text/plain": [
       "<All keys matched successfully>"
      ]
     },
     "execution_count": 16,
     "metadata": {},
     "output_type": "execute_result"
    }
   ],
   "source": [
    "MNIST_state_dict = torch.load('results/MNIST/model.pth')\n",
    "MNIST_model = VQVAE(1,16,10,0.15).to(device)\n",
    "MNIST_model.load_state_dict(MNIST_state_dict)"
   ]
  },
  {
   "cell_type": "markdown",
   "metadata": {},
   "source": [
    "## Simple operations on MNIST Codemaps"
   ]
  },
  {
   "cell_type": "code",
   "execution_count": 17,
   "metadata": {},
   "outputs": [
    {
     "data": {
      "text/plain": [
       "torch.Size([10, 16, 20, 20])"
      ]
     },
     "execution_count": 17,
     "metadata": {},
     "output_type": "execute_result"
    }
   ],
   "source": [
    "codemaps = MNIST_model.encoder(example_data).detach()\n",
    "np.shape(codemaps)"
   ]
  },
  {
   "cell_type": "code",
   "execution_count": 18,
   "metadata": {},
   "outputs": [],
   "source": [
    "codemap_mix = codemaps[0]\n",
    "for i in range(8,16):\n",
    "    codemap_mix[i] = codemaps[1][i]\n",
    "codemaps[0] = codemap_mix"
   ]
  },
  {
   "cell_type": "code",
   "execution_count": 19,
   "metadata": {},
   "outputs": [
    {
     "data": {
      "image/png": "[encoded data removed]",
      "text/plain": [
       "<Figure size 432x288 with 16 Axes>"
      ]
     },
     "metadata": {
      "needs_background": "light"
     },
     "output_type": "display_data"
    }
   ],
   "source": [
    "# Display\n",
    "for i in range(0,16):\n",
    "    plt.subplot(4,4,i+1)\n",
    "    plt.imshow(codemap_mix[i], cmap='gray', interpolation='none')"
   ]
  },
  {
   "cell_type": "code",
   "execution_count": 20,
   "metadata": {},
   "outputs": [
    {
     "data": {
      "text/plain": [
       "torch.Size([10, 1, 28, 28])"
      ]
     },
     "execution_count": 20,
     "metadata": {},
     "output_type": "execute_result"
    }
   ],
   "source": [
    "z_q, codes, q_loss = MNIST_model.quantizer(codemaps)\n",
    "output = MNIST_model.decoder(z_q).detach()\n",
    "np.shape(output)"
   ]
  },
  {
   "cell_type": "code",
   "execution_count": 21,
   "metadata": {},
   "outputs": [
    {
     "data": {
      "text/plain": [
       "<matplotlib.image.AxesImage at 0x21ea544d940>"
      ]
     },
     "execution_count": 21,
     "metadata": {},
     "output_type": "execute_result"
    },
    {
     "data": {
      "image/png": "[encoded data removed]",
      "text/plain": [
       "<Figure size 432x288 with 1 Axes>"
      ]
     },
     "metadata": {
      "needs_background": "light"
     },
     "output_type": "display_data"
    }
   ],
   "source": [
    "plt.imshow(output[0][0], cmap='gray', interpolation='none')"
   ]
  },
  {
   "cell_type": "markdown",
   "metadata": {},
   "source": [
    "## Sampling of MNIST codemaps"
   ]
  },
  {
   "cell_type": "code",
   "execution_count": 22,
   "metadata": {},
   "outputs": [
    {
     "data": {
      "text/plain": [
       "<matplotlib.image.AxesImage at 0x21ea546a550>"
      ]
     },
     "execution_count": 22,
     "metadata": {},
     "output_type": "execute_result"
    },
    {
     "data": {
      "image/png": "[encoded data removed]",
      "text/plain": [
       "<Figure size 432x288 with 1 Axes>"
      ]
     },
     "metadata": {
      "needs_background": "light"
     },
     "output_type": "display_data"
    }
   ],
   "source": [
    "# Example to sample\n",
    "example_data_np = example_data.detach().numpy()\n",
    "min_MNIST = abs(np.min(example_data_np))\n",
    "max_MNIST = np.max(example_data_np + min_MNIST)\n",
    "example_data0 = (example_data_np[0][0])\n",
    "\n",
    "# Transform example to discrete values\n",
    "example0 = example_data0 + min_MNIST\n",
    "example0 = 255 * np.divide(example0,max_MNIST)  # Scale by 255\n",
    "example0 = example0.astype(np.uint8)\n",
    "\n",
    "plt.imshow(example0)"
   ]
  },
  {
   "cell_type": "code",
   "execution_count": 23,
   "metadata": {},
   "outputs": [],
   "source": [
    "# Adapt image to opencv display\n",
    "width = 640\n",
    "ratio = width / np.shape(example0)[1]\n",
    "example0_resized =  imutils.resize(example0, width = width)"
   ]
  },
  {
   "cell_type": "code",
   "execution_count": 24,
   "metadata": {},
   "outputs": [
    {
     "data": {
      "text/plain": [
       "<matplotlib.image.AxesImage at 0x21ea3fa1908>"
      ]
     },
     "execution_count": 24,
     "metadata": {},
     "output_type": "execute_result"
    },
    {
     "data": {
      "image/png": "[encoded data removed]",
      "text/plain": [
       "<Figure size 432x288 with 1 Axes>"
      ]
     },
     "metadata": {
      "needs_background": "light"
     },
     "output_type": "display_data"
    }
   ],
   "source": [
    "# Select ROI\n",
    "fromCenter = False\n",
    "selection_box = cv2.selectROI(cv2.cvtColor(example0_resized,cv2.COLOR_GRAY2RGB), fromCenter) # press Enter to exit after selection\n",
    "cv2.destroyAllWindows()\n",
    "\n",
    "# Resized box to original size\n",
    "sample_box = (np.round(np.divide(selection_box, ratio))).astype(int)\n",
    "\n",
    "# Show cropped image according to sample_box\n",
    "plt.imshow(example0[sample_box[1]:sample_box[1]+sample_box[3], sample_box[0]:sample_box[0]+sample_box[2]])"
   ]
  },
  {
   "cell_type": "code",
   "execution_count": 25,
   "metadata": {},
   "outputs": [],
   "source": [
    "# Function to do inpainting in the defined area\n",
    "def bayesian_inpainting(im, sample_box, nb_ngbrs, autoregressive):\n",
    "    # Init sampled image\n",
    "    im_sampled = im.copy()\n",
    "    size_im = np.shape(im)\n",
    "\n",
    "    # Get every element in the sample box\n",
    "    X_coord, Y_coord = np.mgrid[sample_box[0]:sample_box[0]+sample_box[2], sample_box[1]:sample_box[1]+sample_box[3]]\n",
    "    XY_coord = np.vstack((X_coord.ravel(), Y_coord.ravel()))\n",
    "    \n",
    "    for x, y in zip(XY_coord[0], XY_coord[1]):\n",
    "        # Get the surroundings of the pixel\n",
    "        ind_max_fr = min(y + nb_ngbrs + 1, size_im[0])\n",
    "        ind_min_fr = max(y - nb_ngbrs, 0)\n",
    "        ind_max_tm = min(x + nb_ngbrs + 1, size_im[1])\n",
    "        ind_min_tm = max(x - nb_ngbrs, 0)\n",
    "        coord_ngbrs = []\n",
    "        values_ngbrs = []\n",
    "        for i in range(ind_min_tm, ind_max_tm):\n",
    "            for j in range(ind_min_fr, ind_max_fr):\n",
    "                if abs(i-x) + abs(j-y) <= nb_ngbrs and (i!=x or j!=y):\n",
    "                    coord_ngbrs.append([i, j])\n",
    "                    if autoregressive:\n",
    "                        values_ngbrs.append(im_sampled[j][i])\n",
    "                    else:\n",
    "                        values_ngbrs.append(im[j][i])\n",
    "        # Init classifier\n",
    "        clf = GaussianNB()\n",
    "        # Fit distribution to the neighbors of pixel\n",
    "        clf.fit(coord_ngbrs, values_ngbrs)\n",
    "        # Predict value\n",
    "        proba_predicted = clf.predict_proba(np.array(coord_pixel).reshape(1, -1))\n",
    "        classes = np.unique(values_ngbrs)\n",
    "        value_predicted = int(round(np.sum(proba_predicted * classes)))\n",
    "\n",
    "        # Sample the element selected\n",
    "        im_sampled[y][x] = value_predicted\n",
    "\n",
    "    return im_sampled"
   ]
  },
  {
   "cell_type": "code",
   "execution_count": 26,
   "metadata": {},
   "outputs": [
    {
     "data": {
      "text/plain": [
       "<matplotlib.image.AxesImage at 0x21ea3fee128>"
      ]
     },
     "execution_count": 26,
     "metadata": {},
     "output_type": "execute_result"
    },
    {
     "data": {
      "image/png": "[encoded data removed]",
      "text/plain": [
       "<Figure size 432x288 with 1 Axes>"
      ]
     },
     "metadata": {
      "needs_background": "light"
     },
     "output_type": "display_data"
    }
   ],
   "source": [
    "nb_ngbrs = 2 # number of neighbours to add to the bayesian distribution\n",
    "autoregressive = True # choose if the sampling method is autoregressive or not\n",
    "example0_resampled = bayesian_inpainting(example0, sample_box, nb_ngbrs, autoregressive)\n",
    "\n",
    "# Display\n",
    "plt.imshow(example0_resampled)"
   ]
  }
 ],
 "metadata": {
  "kernelspec": {
   "display_name": "Python 3",
   "language": "python",
   "name": "python3"
  },
  "language_info": {
   "codemirror_mode": {
    "name": "ipython",
    "version": 3
   },
   "file_extension": ".py",
   "mimetype": "text/x-python",
   "name": "python",
   "nbconvert_exporter": "python",
   "pygments_lexer": "ipython3",
   "version": "3.7.3"
  }
 },
 "nbformat": 4,
 "nbformat_minor": 4
}
