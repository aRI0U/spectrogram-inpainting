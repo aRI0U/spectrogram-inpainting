{
 "cells": [
  {
   "cell_type": "markdown",
   "metadata": {},
   "source": [
    "# Bayesian Classifier"
   ]
  },
  {
   "cell_type": "markdown",
   "metadata": {},
   "source": [
    "## Import libraries"
   ]
  },
  {
   "cell_type": "code",
   "execution_count": 26,
   "metadata": {},
   "outputs": [],
   "source": [
    "import torch\n",
    "import matplotlib.pyplot as plt\n",
    "import cv2\n",
    "import numpy as np\n",
    "from sklearn.naive_bayes import GaussianNB\n",
    "import skimage.transform as transform"
   ]
  },
  {
   "cell_type": "markdown",
   "metadata": {},
   "source": [
    "## Generate codemap example"
   ]
  },
  {
   "cell_type": "code",
   "execution_count": 27,
   "metadata": {},
   "outputs": [
    {
     "data": {
      "text/plain": [
       "<matplotlib.image.AxesImage at 0x1fafd855c50>"
      ]
     },
     "execution_count": 27,
     "metadata": {},
     "output_type": "execute_result"
    },
    {
     "data": {
      "image/png": "[encoded data removed]",
      "text/plain": [
       "<Figure size 432x288 with 1 Axes>"
      ]
     },
     "metadata": {
      "needs_background": "light"
     },
     "output_type": "display_data"
    }
   ],
   "source": [
    "# Codemap size : 32 * 4\n",
    "size_cm = [32,8]\n",
    "limit_cm = [0,128]\n",
    "test_codemap = torch.randint(limit_cm[0], limit_cm[1], (size_cm[0], size_cm[1]))\n",
    "test_cm_np = test_codemap.numpy().astype(np.uint8)\n",
    "\n",
    "plt.imshow(test_codemap)"
   ]
  },
  {
   "cell_type": "markdown",
   "metadata": {},
   "source": [
    "## Resample codemap"
   ]
  },
  {
   "cell_type": "code",
   "execution_count": 48,
   "metadata": {},
   "outputs": [
    {
     "name": "stdout",
     "output_type": "stream",
     "text": [
      "Pixel's coordonates : [0 0]\n",
      "Value of the pixel : 1\n"
     ]
    }
   ],
   "source": [
    "# Init variables\n",
    "coord_pixel = []\n",
    "\n",
    "# Mouse function to select the pixel to resample\n",
    "def select_pixel(event,x,y,flags,param):\n",
    "    global coord_pixel\n",
    "    if event == cv2.EVENT_LBUTTONDOWN:\n",
    "        coord_pixel = [x, y]\n",
    "\n",
    "# Resample element of codemap\n",
    "cv2.namedWindow('image')\n",
    "cv2.setMouseCallback('image', select_pixel)\n",
    "zoom = 10\n",
    "test_cm_zoomed = transform.rescale(test_cm_np, zoom)\n",
    "while(True):\n",
    "    cv2.imshow('image', test_cm_zoomed)\n",
    "    # Select pixel to resample\n",
    "    if cv2.waitKey(0) & 0xFF == ord('q'): # press q to exit after selection\n",
    "        break\n",
    "cv2.destroyAllWindows()\n",
    "\n",
    "# Display\n",
    "coord_pixel = (np.round(np.divide(coord_pixel, zoom))).astype(int)\n",
    "pixel_x = coord_pixel[0]\n",
    "pixel_y = coord_pixel[1]\n",
    "print(\"Pixel's coordonates : \" + str(coord_pixel))\n",
    "print(\"Value of the pixel : \" + str(test_cm_np[pixel_y][pixel_x]))"
   ]
  },
  {
   "cell_type": "code",
   "execution_count": 49,
   "metadata": {},
   "outputs": [
    {
     "name": "stdout",
     "output_type": "stream",
     "text": [
      "Pixel's coordonates : [0 0]\n",
      "Value predicted : 55\n"
     ]
    }
   ],
   "source": [
    "# Get the surroundings of the pixel\n",
    "nb_ngbrs = 2 # number of neighbours to add to the bayesian distribution\n",
    "ind_max_fr = min(pixel_y + nb_ngbrs + 1, size_cm[0])\n",
    "ind_min_fr = max(pixel_y - nb_ngbrs, 0)\n",
    "ind_max_tm = min(pixel_x + nb_ngbrs + 1, size_cm[1])\n",
    "ind_min_tm = max(pixel_x - nb_ngbrs, 0)\n",
    "coord_ngbrs = []\n",
    "values_ngbrs = []\n",
    "\n",
    "for i in range(ind_min_tm, ind_max_tm):\n",
    "    for j in range(ind_min_fr, ind_max_fr):\n",
    "        if abs(i-pixel_x) + abs(j-pixel_y) <= nb_ngbrs and (i!=pixel_x or j!=pixel_y):\n",
    "            coord_ngbrs.append([i, j])\n",
    "            values_ngbrs.append(test_cm_np[j][i])\n",
    "\n",
    "# Init classifier\n",
    "clf = GaussianNB()\n",
    "# Fit distribution to the neighbors of pixel\n",
    "clf.fit(coord_ngbrs, values_ngbrs)\n",
    "# Predict value\n",
    "proba_predicted = clf.predict_proba(np.array(coord_pixel).reshape(1, -1))\n",
    "classes = np.unique(values_ngbrs)\n",
    "value_predicted = int(round(np.sum(proba_predicted * classes)))\n",
    "\n",
    "print(\"Pixel's coordonates : \" + str(coord_pixel))\n",
    "print(\"Value predicted : \" + str(value_predicted))"
   ]
  },
  {
   "cell_type": "code",
   "execution_count": 50,
   "metadata": {},
   "outputs": [
    {
     "data": {
      "text/plain": [
       "<matplotlib.image.AxesImage at 0x1fafd99b240>"
      ]
     },
     "execution_count": 50,
     "metadata": {},
     "output_type": "execute_result"
    },
    {
     "data": {
      "image/png": "[encoded data removed]",
      "text/plain": [
       "<Figure size 432x288 with 1 Axes>"
      ]
     },
     "metadata": {
      "needs_background": "light"
     },
     "output_type": "display_data"
    }
   ],
   "source": [
    "# Resample codemap according to value predicted\n",
    "codemap_resampled = test_codemap\n",
    "codemap_resampled[pixel_y][pixel_x] = value_predicted\n",
    "\n",
    "plt.imshow(codemap_resampled)"
   ]
  }
 ],
 "metadata": {
  "kernelspec": {
   "display_name": "Python 3",
   "language": "python",
   "name": "python3"
  },
  "language_info": {
   "codemirror_mode": {
    "name": "ipython",
    "version": 3
   },
   "file_extension": ".py",
   "mimetype": "text/x-python",
   "name": "python",
   "nbconvert_exporter": "python",
   "pygments_lexer": "ipython3",
   "version": "3.7.3"
  }
 },
 "nbformat": 4,
 "nbformat_minor": 4
}
